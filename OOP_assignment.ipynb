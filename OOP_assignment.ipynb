{
 "cells": [
  {
   "cell_type": "markdown",
   "id": "d10df5c5",
   "metadata": {},
   "source": [
    "### Write a Python class to implement pow(x, n)\n",
    "- Explanation: Use should be able to find the nth power of the x.(i.e x*x*x*x...n times)\n",
    "- You must implement it using Class\n",
    "\n",
    "- Sample Input:\n",
    "> x: 10\n",
    "> n: 2\n",
    "\n",
    "- Sample Output:\n",
    "> 100"
   ]
  },
  {
   "cell_type": "code",
   "execution_count": 11,
   "id": "484b274d",
   "metadata": {},
   "outputs": [
    {
     "name": "stdout",
     "output_type": "stream",
     "text": [
      "2\n"
     ]
    },
    {
     "data": {
      "text/plain": [
       "100"
      ]
     },
     "execution_count": 11,
     "metadata": {},
     "output_type": "execute_result"
    }
   ],
   "source": [
    "class MyClass:\n",
    "    def __init__(self,x,n):\n",
    "        self.x = x\n",
    "        self.n = n\n",
    "    \n",
    "    def myfunc(self):\n",
    "        return self.x**n\n",
    "n = int(input())\n",
    "obj = MyClass(10,n)\n",
    "obj.myfunc()"
   ]
  }
 ],
 "metadata": {
  "kernelspec": {
   "display_name": "Python 3 (ipykernel)",
   "language": "python",
   "name": "python3"
  },
  "language_info": {
   "codemirror_mode": {
    "name": "ipython",
    "version": 3
   },
   "file_extension": ".py",
   "mimetype": "text/x-python",
   "name": "python",
   "nbconvert_exporter": "python",
   "pygments_lexer": "ipython3",
   "version": "3.10.1"
  }
 },
 "nbformat": 4,
 "nbformat_minor": 5
}
